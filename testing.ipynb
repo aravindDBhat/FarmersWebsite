{
 "cells": [
  {
   "cell_type": "code",
   "execution_count": 220,
   "metadata": {},
   "outputs": [],
   "source": [
    "import matplotlib.pyplot as plt\n",
    "import numpy as np\n",
    "from io import BytesIO\n",
    "from PIL import Image\n",
    "import tensorflow as tf\n",
    "from keras.utils import to_categorical\n",
    "import cv2\n",
    "import os\n"
   ]
  },
  {
   "cell_type": "code",
   "execution_count": 221,
   "metadata": {},
   "outputs": [
    {
     "name": "stdout",
     "output_type": "stream",
     "text": [
      "['Apple___Apple_scab', 'Apple___Black_rot', 'Apple___Cedar_apple_rust', 'Apple___healthy', 'Blueberry___healthy', 'Cherry_(including_sour)___Powdery_mildew', 'Cherry_(including_sour)___healthy', 'Corn_(maize)___Cercospora_leaf_spot Gray_leaf_spot', 'Corn_(maize)___Common_rust_', 'Corn_(maize)___Northern_Leaf_Blight', 'Corn_(maize)___healthy', 'Grape___Black_rot', 'Grape___Esca_(Black_Measles)', 'Grape___Leaf_blight_(Isariopsis_Leaf_Spot)', 'Grape___healthy', 'Orange___Haunglongbing_(Citrus_greening)', 'Peach___Bacterial_spot', 'Peach___healthy', 'Pepper,_bell___Bacterial_spot', 'Pepper,_bell___healthy', 'Potato___Early_blight', 'Potato___Late_blight', 'Potato___healthy', 'Raspberry___healthy', 'Soybean___healthy', 'Squash___Powdery_mildew', 'Strawberry___Leaf_scorch', 'Strawberry___healthy', 'Tomato___Bacterial_spot', 'Tomato___Early_blight', 'Tomato___Late_blight', 'Tomato___Leaf_Mold', 'Tomato___Septoria_leaf_spot', 'Tomato___Spider_mites Two-spotted_spider_mite', 'Tomato___Target_Spot', 'Tomato___Tomato_Yellow_Leaf_Curl_Virus', 'Tomato___Tomato_mosaic_virus', 'Tomato___healthy']\n",
      "Loading Folder -- Apple___Apple_scab The Count of Classes ==>  0\n",
      "Loading Folder -- Apple___Black_rot The Count of Classes ==>  1\n",
      "Loading Folder -- Apple___Cedar_apple_rust The Count of Classes ==>  2\n",
      "Loading Folder -- Apple___healthy The Count of Classes ==>  3\n",
      "Loading Folder -- Blueberry___healthy The Count of Classes ==>  4\n",
      "Loading Folder -- Cherry_(including_sour)___Powdery_mildew The Count of Classes ==>  5\n",
      "Loading Folder -- Cherry_(including_sour)___healthy The Count of Classes ==>  6\n",
      "Loading Folder -- Corn_(maize)___Cercospora_leaf_spot Gray_leaf_spot The Count of Classes ==>  7\n",
      "Loading Folder -- Corn_(maize)___Common_rust_ The Count of Classes ==>  8\n",
      "Loading Folder -- Corn_(maize)___Northern_Leaf_Blight The Count of Classes ==>  9\n",
      "Loading Folder -- Corn_(maize)___healthy The Count of Classes ==>  10\n",
      "Loading Folder -- Grape___Black_rot The Count of Classes ==>  11\n",
      "Loading Folder -- Grape___Esca_(Black_Measles) The Count of Classes ==>  12\n",
      "Loading Folder -- Grape___Leaf_blight_(Isariopsis_Leaf_Spot) The Count of Classes ==>  13\n",
      "Loading Folder -- Grape___healthy The Count of Classes ==>  14\n",
      "Loading Folder -- Orange___Haunglongbing_(Citrus_greening) The Count of Classes ==>  15\n",
      "Loading Folder -- Peach___Bacterial_spot The Count of Classes ==>  16\n",
      "Loading Folder -- Peach___healthy The Count of Classes ==>  17\n",
      "Loading Folder -- Pepper,_bell___Bacterial_spot The Count of Classes ==>  18\n",
      "Loading Folder -- Pepper,_bell___healthy The Count of Classes ==>  19\n",
      "Loading Folder -- Potato___Early_blight The Count of Classes ==>  20\n",
      "Loading Folder -- Potato___Late_blight The Count of Classes ==>  21\n",
      "Loading Folder -- Potato___healthy The Count of Classes ==>  22\n",
      "Loading Folder -- Raspberry___healthy The Count of Classes ==>  23\n",
      "Loading Folder -- Soybean___healthy The Count of Classes ==>  24\n",
      "Loading Folder -- Squash___Powdery_mildew The Count of Classes ==>  25\n",
      "Loading Folder -- Strawberry___Leaf_scorch The Count of Classes ==>  26\n",
      "Loading Folder -- Strawberry___healthy The Count of Classes ==>  27\n",
      "Loading Folder -- Tomato___Bacterial_spot The Count of Classes ==>  28\n",
      "Loading Folder -- Tomato___Early_blight The Count of Classes ==>  29\n",
      "Loading Folder -- Tomato___Late_blight The Count of Classes ==>  30\n",
      "Loading Folder -- Tomato___Leaf_Mold The Count of Classes ==>  31\n",
      "Loading Folder -- Tomato___Septoria_leaf_spot The Count of Classes ==>  32\n",
      "Loading Folder -- Tomato___Spider_mites Two-spotted_spider_mite The Count of Classes ==>  33\n",
      "Loading Folder -- Tomato___Target_Spot The Count of Classes ==>  34\n",
      "Loading Folder -- Tomato___Tomato_Yellow_Leaf_Curl_Virus The Count of Classes ==>  35\n",
      "Loading Folder -- Tomato___Tomato_mosaic_virus The Count of Classes ==>  36\n",
      "Loading Folder -- Tomato___healthy The Count of Classes ==>  37\n"
     ]
    }
   ],
   "source": [
    "path = \"E:/downloads/3rd sem engineering/WEB  DEVELOPMENT/Major Project/Dataset/New Plant Diseases Dataset(Augmented)/New Plant Diseases Dataset(Augmented)/train\"  # Replace with the path to your dataset\n",
    "className = os.listdir(path)\n",
    "className.sort() \n",
    "className=className[:]\n",
    "print(className)\n",
    "imageData = []\n",
    "labelData = []\n",
    "\n",
    "for count, folder in enumerate(className):\n",
    "    folder_path = os.path.join(path, folder)\n",
    "    images = os.listdir(folder_path)\n",
    "    print(\"Loading Folder --\", folder, \"The Count of Classes ==> \", count)\n",
    "    for i in range(10):\n",
    "        image = cv2.imread(os.path.join(folder_path, images[i]))\n",
    "        image = cv2.resize(image, (70, 70))\n",
    "        imageData.append(image)\n",
    "        labelData.append(count)"
   ]
  },
  {
   "cell_type": "code",
   "execution_count": 222,
   "metadata": {},
   "outputs": [
    {
     "name": "stdout",
     "output_type": "stream",
     "text": [
      "(380, 70, 70, 3)\n"
     ]
    },
    {
     "data": {
      "text/plain": [
       "380"
      ]
     },
     "execution_count": 222,
     "metadata": {},
     "output_type": "execute_result"
    }
   ],
   "source": [
    "data = np.array(imageData)\n",
    "data = data.astype(\"float32\")\n",
    "data = data/255.0\n",
    "\n",
    "label = np.array(labelData)\n",
    "print(data.shape)\n",
    "label_num = to_categorical(label, len(className))\n",
    "len(label_num)"
   ]
  },
  {
   "cell_type": "code",
   "execution_count": 223,
   "metadata": {},
   "outputs": [
    {
     "name": "stdout",
     "output_type": "stream",
     "text": [
      "Model: \"sequential_3\"\n",
      "_________________________________________________________________\n",
      " Layer (type)                Output Shape              Param #   \n",
      "=================================================================\n",
      " sequential_2 (Sequential)   (None, 70, 70, 3)         0         \n",
      "                                                                 \n",
      " conv2d_5 (Conv2D)           (None, 70, 70, 16)        1216      \n",
      "                                                                 \n",
      " max_pooling2d_5 (MaxPoolin  (None, 35, 35, 16)        0         \n",
      " g2D)                                                            \n",
      "                                                                 \n",
      " conv2d_6 (Conv2D)           (None, 35, 35, 32)        8224      \n",
      "                                                                 \n",
      " max_pooling2d_6 (MaxPoolin  (None, 17, 17, 32)        0         \n",
      " g2D)                                                            \n",
      "                                                                 \n",
      " conv2d_7 (Conv2D)           (None, 17, 17, 64)        18496     \n",
      "                                                                 \n",
      " max_pooling2d_7 (MaxPoolin  (None, 8, 8, 64)          0         \n",
      " g2D)                                                            \n",
      "                                                                 \n",
      " conv2d_8 (Conv2D)           (None, 8, 8, 64)          36928     \n",
      "                                                                 \n",
      " max_pooling2d_8 (MaxPoolin  (None, 4, 4, 64)          0         \n",
      " g2D)                                                            \n",
      "                                                                 \n",
      " conv2d_9 (Conv2D)           (None, 4, 4, 128)         32896     \n",
      "                                                                 \n",
      " max_pooling2d_9 (MaxPoolin  (None, 2, 2, 128)         0         \n",
      " g2D)                                                            \n",
      "                                                                 \n",
      " flatten_1 (Flatten)         (None, 512)               0         \n",
      "                                                                 \n",
      " dense_3 (Dense)             (None, 128)               65664     \n",
      "                                                                 \n",
      " dropout_2 (Dropout)         (None, 128)               0         \n",
      "                                                                 \n",
      " dense_4 (Dense)             (None, 32)                4128      \n",
      "                                                                 \n",
      " dropout_3 (Dropout)         (None, 32)                0         \n",
      "                                                                 \n",
      " dense_5 (Dense)             (None, 38)                1254      \n",
      "                                                                 \n",
      "=================================================================\n",
      "Total params: 168806 (659.40 KB)\n",
      "Trainable params: 168806 (659.40 KB)\n",
      "Non-trainable params: 0 (0.00 Byte)\n",
      "_________________________________________________________________\n"
     ]
    }
   ],
   "source": [
    "MODEL = tf.keras.models.load_model(r\"E:\\downloads\\3rd sem engineering\\WEB  DEVELOPMENT\\Major Project\\FarmersWebsite\\farmerswebsite\\api\\my_model5.h5\")\n",
    "MODEL.summary()"
   ]
  },
  {
   "cell_type": "code",
   "execution_count": 224,
   "metadata": {},
   "outputs": [],
   "source": [
    "CLASS_NAMES=['Apple___Apple_scab', 'Apple___Black_rot', 'Apple___Cedar_apple_rust', 'Apple___healthy', \n",
    "             'Blueberry___healthy', 'Cherry_(including_sour)___Powdery_mildew', 'Cherry_(including_sour)___healthy',\n",
    "             'Corn_(maize)___Cercospora_leaf_spot Gray_leaf_spot', 'Corn_(maize)___Common_rust_', \n",
    "             'Corn_(maize)___Northern_Leaf_Blight', 'Corn_(maize)___healthy', 'Grape___Black_rot', \n",
    "             'Grape___Esca_(Black_Measles)', 'Grape___Leaf_blight_(Isariopsis_Leaf_Spot)', 'Grape___healthy',\n",
    "             'Orange___Haunglongbing_(Citrus_greening)', 'Peach___Bacterial_spot', 'Peach___healthy', \n",
    "             'Pepper,_bell___Bacterial_spot', 'Pepper,_bell___healthy', 'Potato___Early_blight', \n",
    "             'Potato___Late_blight', 'Potato___healthy', 'Raspberry___healthy', 'Soybean___healthy', \n",
    "             'Squash___Powdery_mildew', 'Strawberry___Leaf_scorch', 'Strawberry___healthy', \n",
    "             'Tomato___Bacterial_spot', 'Tomato___Early_blight', 'Tomato___Late_blight', 'Tomato___Leaf_Mold', \n",
    "             'Tomato___Septoria_leaf_spot', 'Tomato___Spider_mites Two-spotted_spider_mite', \n",
    "             'Tomato___Target_Spot', 'Tomato___Tomato_Yellow_Leaf_Curl_Virus', 'Tomato___Tomato_mosaic_virus', \n",
    "             'Tomato___healthy']"
   ]
  },
  {
   "cell_type": "code",
   "execution_count": 225,
   "metadata": {},
   "outputs": [
    {
     "name": "stdout",
     "output_type": "stream",
     "text": [
      "12/12 [==============================] - 1s 32ms/step - loss: 0.4079 - accuracy: 0.8789\n"
     ]
    }
   ],
   "source": [
    "test_loss, test_accuracy = MODEL.evaluate(data, label_num)"
   ]
  },
  {
   "cell_type": "code",
   "execution_count": 230,
   "metadata": {},
   "outputs": [
    {
     "name": "stdout",
     "output_type": "stream",
     "text": [
      "[[[179 166 175]\n",
      "  [173 160 169]\n",
      "  [178 165 174]\n",
      "  ...\n",
      "  [172 159 169]\n",
      "  [165 152 162]\n",
      "  [173 160 170]]\n",
      "\n",
      " [[176 163 172]\n",
      "  [175 162 171]\n",
      "  [167 154 163]\n",
      "  ...\n",
      "  [170 157 167]\n",
      "  [170 157 167]\n",
      "  [169 155 166]]\n",
      "\n",
      " [[178 165 174]\n",
      "  [173 160 169]\n",
      "  [173 160 170]\n",
      "  ...\n",
      "  [172 159 169]\n",
      "  [170 157 167]\n",
      "  [168 155 165]]\n",
      "\n",
      " ...\n",
      "\n",
      " [[190 171 177]\n",
      "  [193 174 180]\n",
      "  [170 151 157]\n",
      "  ...\n",
      "  [152 141 149]\n",
      "  [190 179 187]\n",
      "  [177 166 174]]\n",
      "\n",
      " [[148 129 135]\n",
      "  [159 140 146]\n",
      "  [153 134 140]\n",
      "  ...\n",
      "  [163 152 160]\n",
      "  [212 201 209]\n",
      "  [198 187 195]]\n",
      "\n",
      " [[170 151 157]\n",
      "  [143 124 130]\n",
      "  [162 143 149]\n",
      "  ...\n",
      "  [165 154 162]\n",
      "  [176 164 173]\n",
      "  [175 164 172]]]\n",
      "1/1 [==============================] - 0s 23ms/step\n",
      "Pepper,_bell___healthy\n"
     ]
    }
   ],
   "source": [
    "img_path =(r\"E:\\downloads\\3rd sem engineering\\WEB  DEVELOPMENT\\Major Project\\FarmersWebsite\\farmerswebsite\\public\\testdata\\PotatoHealthy1.JPG\")\n",
    "img = plt.imread(img_path)\n",
    "img = cv2.resize(img, (70, 70)) \n",
    "# Resize the image to match the model's expected sizing\n",
    "img=np.array(img)\n",
    "img = img.astype(\"float32\")\n",
    "img = img / 255.0\n",
    "img= np.reshape(img, (1, 70, 70, 3))\n",
    "pred = MODEL.predict(img)[0]\n",
    "predicted_class = CLASS_NAMES[np.argmax(pred)]\n",
    "print(predicted_class)\n"
   ]
  },
  {
   "cell_type": "code",
   "execution_count": 228,
   "metadata": {},
   "outputs": [],
   "source": [
    "# for img in range(380):\n",
    "#     i = np.reshape(data[img], (1, 70, 70, 3))\n",
    "#     prediction = MODEL.predict(i)\n",
    "#     predicted_class = CLASS_NAMES[np.argmax(prediction)]\n",
    "#     true_class = CLASS_NAMES[np.argmax(label_num[img])]\n",
    "#     print(\"\\n\",predicted_class)\n",
    "#     print(\"\\nactual clss :\",true_class)\n",
    "    # pred = MODEL.predict(img)[0]\n",
    "\n",
    "    # # Get the predicted class\n",
    "    # predicted_class = CLASS_NAMES[np.argmax(pred)]\n",
    "    # print(predicted_class)\n",
    "    # print(CLASS_NAMES[np.argmax(label_num)[0]])\n"
   ]
  }
 ],
 "metadata": {
  "kernelspec": {
   "display_name": "Python 3",
   "language": "python",
   "name": "python3"
  },
  "language_info": {
   "codemirror_mode": {
    "name": "ipython",
    "version": 3
   },
   "file_extension": ".py",
   "mimetype": "text/x-python",
   "name": "python",
   "nbconvert_exporter": "python",
   "pygments_lexer": "ipython3",
   "version": "3.11.2"
  }
 },
 "nbformat": 4,
 "nbformat_minor": 2
}
